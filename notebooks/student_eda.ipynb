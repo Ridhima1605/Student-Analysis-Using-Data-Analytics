# Student Analysis Using Data Analytics - EDA Notebook

# 📦 Importing Libraries
import pandas as pd
import numpy as np
import matplotlib.pyplot as plt
import seaborn as sns

# 🔧 Display Settings
pd.set_option('display.max_columns', None)
sns.set(style='whitegrid', palette='muted')

# 📁 Load Dataset
df = pd.read_csv('../data/students.csv')  # Adjust path if needed
print("Dataset Shape:", df.shape)
df.head()
